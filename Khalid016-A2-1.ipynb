{
 "cells": [
  {
   "cell_type": "markdown",
   "id": "57ee2762-bdf4-41d0-8b03-efcd09d525af",
   "metadata": {},
   "source": [
    "# 1. Pre Processing"
   ]
  },
  {
   "cell_type": "code",
   "execution_count": 2,
   "id": "b6e206f4-70cb-468a-80af-510e921916ad",
   "metadata": {},
   "outputs": [],
   "source": [
    "import pandas as pd\n",
    "from sklearn.preprocessing import LabelEncoder, StandardScaler\n"
   ]
  },
  {
   "cell_type": "code",
   "execution_count": 3,
   "id": "c140f9cd-0025-437c-ae08-61efb5237c2d",
   "metadata": {},
   "outputs": [],
   "source": [
    "# Load the dataset\n",
    "data = pd.read_csv('/Users/khalidhameed/Downloads/survey lung cancer.csv')"
   ]
  },
  {
   "cell_type": "code",
   "execution_count": 4,
   "id": "683c7a5b-585b-4166-a063-2ccee48d23d1",
   "metadata": {},
   "outputs": [
    {
     "name": "stdout",
     "output_type": "stream",
     "text": [
      "Missing Values:\n",
      " GENDER                   0\n",
      "AGE                      0\n",
      "SMOKING                  0\n",
      "YELLOW_FINGERS           0\n",
      "ANXIETY                  0\n",
      "PEER_PRESSURE            0\n",
      "CHRONIC DISEASE          0\n",
      "FATIGUE                  0\n",
      "ALLERGY                  0\n",
      "WHEEZING                 0\n",
      "ALCOHOL CONSUMING        0\n",
      "COUGHING                 0\n",
      "SHORTNESS OF BREATH      0\n",
      "SWALLOWING DIFFICULTY    0\n",
      "CHEST PAIN               0\n",
      "LUNG_CANCER              0\n",
      "dtype: int64\n"
     ]
    }
   ],
   "source": [
    "# Step 1: Check for missing values\n",
    "missing_values = data.isnull().sum()\n",
    "print(\"Missing Values:\\n\", missing_values)"
   ]
  },
  {
   "cell_type": "code",
   "execution_count": 5,
   "id": "6fb42a08-a3af-416c-ae9f-1176310d6956",
   "metadata": {},
   "outputs": [],
   "source": [
    "# Step 2: Encoding categorical variables\n",
    "# Initialize LabelEncoder\n",
    "label_encoder = LabelEncoder()"
   ]
  },
  {
   "cell_type": "code",
   "execution_count": 6,
   "id": "31ea11a2-d1bb-4ce6-81dd-b055f919d43f",
   "metadata": {},
   "outputs": [],
   "source": [
    "# Encode 'GENDER' and 'LUNG_CANCER' columns\n",
    "data['GENDER'] = label_encoder.fit_transform(data['GENDER'])\n",
    "data['LUNG_CANCER'] = label_encoder.fit_transform(data['LUNG_CANCER'])"
   ]
  },
  {
   "cell_type": "code",
   "execution_count": 7,
   "id": "3ed66be0-2613-40b9-a61a-eea9ac4f9583",
   "metadata": {},
   "outputs": [],
   "source": [
    "# Step 3: Scaling numerical features\n",
    "# Initialize StandardScaler\n",
    "scaler = StandardScaler()"
   ]
  },
  {
   "cell_type": "code",
   "execution_count": 8,
   "id": "3c7d0155-ddff-479a-9a5e-309538292b0a",
   "metadata": {},
   "outputs": [],
   "source": [
    "\n",
    "# Scale the 'AGE' column\n",
    "data['AGE'] = scaler.fit_transform(data[['AGE']])"
   ]
  },
  {
   "cell_type": "code",
   "execution_count": 9,
   "id": "887940a8-668d-4c9b-abbc-d0a683db4ae4",
   "metadata": {},
   "outputs": [
    {
     "name": "stdout",
     "output_type": "stream",
     "text": [
      "Processed Data Sample:\n",
      "    GENDER       AGE  SMOKING  YELLOW_FINGERS  ANXIETY  PEER_PRESSURE  \\\n",
      "0       1  0.771850        1               2        2              1   \n",
      "1       1  1.381829        2               1        1              1   \n",
      "2       0 -0.448107        1               1        1              2   \n",
      "3       1  0.039876        2               2        2              1   \n",
      "4       0  0.039876        1               2        1              1   \n",
      "\n",
      "   CHRONIC DISEASE  FATIGUE   ALLERGY   WHEEZING  ALCOHOL CONSUMING  COUGHING  \\\n",
      "0                1         2         1         2                  2         2   \n",
      "1                2         2         2         1                  1         1   \n",
      "2                1         2         1         2                  1         2   \n",
      "3                1         1         1         1                  2         1   \n",
      "4                1         1         1         2                  1         2   \n",
      "\n",
      "   SHORTNESS OF BREATH  SWALLOWING DIFFICULTY  CHEST PAIN  LUNG_CANCER  \n",
      "0                    2                      2           2            1  \n",
      "1                    2                      2           2            1  \n",
      "2                    2                      1           2            0  \n",
      "3                    1                      2           2            0  \n",
      "4                    2                      1           1            0  \n"
     ]
    }
   ],
   "source": [
    "# Display the first few rows of the processed data\n",
    "print(\"Processed Data Sample:\\n\", data.head())"
   ]
  },
  {
   "cell_type": "markdown",
   "id": "6dd76433-7ae1-459c-acde-50776f397aff",
   "metadata": {},
   "source": [
    "# 2. Apply any unsupervised learning techniques"
   ]
  },
  {
   "cell_type": "code",
   "execution_count": 10,
   "id": "b5f0e123-2ce0-4a54-8744-c8d7930d4da8",
   "metadata": {},
   "outputs": [],
   "source": [
    "from sklearn.cluster import KMeans, AgglomerativeClustering\n",
    "from sklearn.metrics import silhouette_score, davies_bouldin_score"
   ]
  },
  {
   "cell_type": "markdown",
   "id": "36b3e1a6-c009-4515-a9f4-f65f62d98714",
   "metadata": {},
   "source": [
    "### K-Means Clustering"
   ]
  },
  {
   "cell_type": "code",
   "execution_count": 11,
   "id": "255862e4-ad04-4b1f-a4e9-82a481f6028e",
   "metadata": {},
   "outputs": [],
   "source": [
    "# Step 1: K-Means Clustering\n",
    "# Define K-Means with 3 clusters (arbitrary for now; can be adjusted based on validation)\n",
    "kmeans = KMeans(n_clusters=6, random_state=0)\n",
    "data['KMeans_Cluster'] = kmeans.fit_predict(data.drop(columns=['LUNG_CANCER']))"
   ]
  },
  {
   "cell_type": "markdown",
   "id": "0f1349e9-6015-48b3-9b5f-20db1c4e7908",
   "metadata": {},
   "source": [
    "### Hierarchical Clustering"
   ]
  },
  {
   "cell_type": "code",
   "execution_count": 12,
   "id": "6b0931fb-31a3-4c41-bb98-112a666c691b",
   "metadata": {},
   "outputs": [],
   "source": [
    "# Step 2: Hierarchical Clustering\n",
    "# Define Agglomerative Clustering with 3 clusters\n",
    "hierarchical = AgglomerativeClustering(n_clusters=6)\n",
    "data['Hierarchical_Cluster'] = hierarchical.fit_predict(data.drop(columns=['LUNG_CANCER']))"
   ]
  },
  {
   "cell_type": "code",
   "execution_count": 13,
   "id": "446fe077-5510-410a-bd54-12dd5c3d6a98",
   "metadata": {},
   "outputs": [],
   "source": [
    "# Step 3: Clustering Validation\n",
    "# Calculate Silhouette Scores\n",
    "silhouette_kmeans = silhouette_score(data.drop(columns=['KMeans_Cluster', 'Hierarchical_Cluster', 'LUNG_CANCER']), data['KMeans_Cluster'])\n",
    "silhouette_hierarchical = silhouette_score(data.drop(columns=['KMeans_Cluster', 'Hierarchical_Cluster', 'LUNG_CANCER']), data['Hierarchical_Cluster'])"
   ]
  },
  {
   "cell_type": "code",
   "execution_count": 14,
   "id": "2de0bbdb-0d9a-416f-a770-e155bf37eace",
   "metadata": {},
   "outputs": [],
   "source": [
    "# Calculate Davies-Bouldin Scores\n",
    "davies_bouldin_kmeans = davies_bouldin_score(data.drop(columns=['KMeans_Cluster', 'Hierarchical_Cluster', 'LUNG_CANCER']), data['KMeans_Cluster'])\n",
    "davies_bouldin_hierarchical = davies_bouldin_score(data.drop(columns=['KMeans_Cluster', 'Hierarchical_Cluster', 'LUNG_CANCER']), data['Hierarchical_Cluster'])\n"
   ]
  },
  {
   "cell_type": "code",
   "execution_count": 15,
   "id": "4156ca0c-f80f-4a43-a947-2f733c4f0cee",
   "metadata": {},
   "outputs": [
    {
     "name": "stdout",
     "output_type": "stream",
     "text": [
      "Clustering Validation Results:\n",
      "Silhouette Score (K-Means): 0.13213241195703554\n",
      "Silhouette Score (Hierarchical): 0.1254105322587935\n",
      "Davies-Bouldin Index (K-Means): 1.9635057163176286\n",
      "Davies-Bouldin Index (Hierarchical): 2.0098360991400503\n"
     ]
    }
   ],
   "source": [
    "# Display results\n",
    "print(\"Clustering Validation Results:\")\n",
    "print(f\"Silhouette Score (K-Means): {silhouette_kmeans}\")\n",
    "print(f\"Silhouette Score (Hierarchical): {silhouette_hierarchical}\")\n",
    "print(f\"Davies-Bouldin Index (K-Means): {davies_bouldin_kmeans}\")\n",
    "print(f\"Davies-Bouldin Index (Hierarchical): {davies_bouldin_hierarchical}\")"
   ]
  },
  {
   "cell_type": "markdown",
   "id": "3eb81ebe-4509-4307-b8c8-f5b4666b3e7e",
   "metadata": {},
   "source": [
    "# 3. Feature Selection Techniques"
   ]
  },
  {
   "cell_type": "code",
   "execution_count": 16,
   "id": "b1259edb-09d8-4ace-9599-85581021a0a5",
   "metadata": {},
   "outputs": [],
   "source": [
    "from sklearn.decomposition import PCA\n",
    "from sklearn.preprocessing import MinMaxScaler, StandardScaler\n",
    "from sklearn.feature_selection import SelectKBest, chi2"
   ]
  },
  {
   "cell_type": "code",
   "execution_count": 17,
   "id": "343ffddd-5538-4ea8-89f1-7299da1ac63a",
   "metadata": {},
   "outputs": [],
   "source": [
    "\n",
    "# Separate features and target variable\n",
    "X = data.drop(columns=['LUNG_CANCER', 'KMeans_Cluster', 'Hierarchical_Cluster'])\n",
    "y = data['LUNG_CANCER']"
   ]
  },
  {
   "cell_type": "markdown",
   "id": "171f19cd-b0a5-400e-9b1a-e27286d5d5bd",
   "metadata": {},
   "source": [
    "### Applying PCA"
   ]
  },
  {
   "cell_type": "code",
   "execution_count": 18,
   "id": "e2aaab17-f6b6-43dc-8670-1c23542b9069",
   "metadata": {},
   "outputs": [],
   "source": [
    "# Step 1: Apply PCA\n",
    "# PCA requires scaled data\n",
    "scaler = StandardScaler()\n",
    "X_scaled = scaler.fit_transform(X)"
   ]
  },
  {
   "cell_type": "code",
   "execution_count": 19,
   "id": "3002a630-36f5-47aa-91e5-49cd619b4580",
   "metadata": {},
   "outputs": [],
   "source": [
    "# Define PCA with the goal of retaining 95% of the variance\n",
    "pca = PCA(n_components=0.95, random_state=0)\n",
    "X_pca = pca.fit_transform(X_scaled)"
   ]
  },
  {
   "cell_type": "code",
   "execution_count": 20,
   "id": "2b5e18d3-5400-4070-9ea0-622ca8d4ee0a",
   "metadata": {},
   "outputs": [
    {
     "name": "stdout",
     "output_type": "stream",
     "text": [
      "PCA Number of Components: 13\n"
     ]
    }
   ],
   "source": [
    "# Get the number of components selected by PCA to reach 95% variance\n",
    "pca_components = X_pca.shape[1]\n",
    "print(f\"PCA Number of Components: {pca_components}\")"
   ]
  },
  {
   "cell_type": "markdown",
   "id": "b4fe8f87-aeb9-40eb-8cdd-e1c86dde78b9",
   "metadata": {},
   "source": [
    "### Applying Chi-Square"
   ]
  },
  {
   "cell_type": "code",
   "execution_count": 21,
   "id": "3c0f921f-42de-4848-99b9-72a8be56b831",
   "metadata": {},
   "outputs": [],
   "source": [
    "# Step 2: Apply Chi-Square Test\n",
    "# Use MinMaxScaler to ensure non-negative values for Chi-Square\n",
    "X_non_negative = MinMaxScaler().fit_transform(X)"
   ]
  },
  {
   "cell_type": "code",
   "execution_count": 22,
   "id": "b3569a3a-1f43-4698-bd44-1d925a009f9d",
   "metadata": {},
   "outputs": [],
   "source": [
    "# Apply Chi-Square to select top 5 features\n",
    "chi2_selector = SelectKBest(chi2, k=5)\n",
    "X_chi2 = chi2_selector.fit_transform(X_non_negative, y)"
   ]
  },
  {
   "cell_type": "code",
   "execution_count": 23,
   "id": "18020805-3849-40b7-a072-beb0626a196d",
   "metadata": {},
   "outputs": [
    {
     "name": "stdout",
     "output_type": "stream",
     "text": [
      "Chi-Square Selected Features: ['ALLERGY ', 'WHEEZING', 'ALCOHOL CONSUMING', 'COUGHING', 'SWALLOWING DIFFICULTY']\n"
     ]
    }
   ],
   "source": [
    "# Get selected feature names\n",
    "chi2_selected_features = X.columns[chi2_selector.get_support(indices=True)]\n",
    "print(\"Chi-Square Selected Features:\", chi2_selected_features.tolist())"
   ]
  },
  {
   "cell_type": "markdown",
   "id": "a7423147-785e-4f4b-bd9b-deb8b4076b24",
   "metadata": {},
   "source": [
    "# 4. supervised learning classifiers"
   ]
  },
  {
   "cell_type": "code",
   "execution_count": 24,
   "id": "2b038b06-5043-4756-b57d-3d299050ce2e",
   "metadata": {},
   "outputs": [
    {
     "name": "stdout",
     "output_type": "stream",
     "text": [
      "Requirement already satisfied: xgboost in /opt/anaconda3/envs/tf_env/lib/python3.10/site-packages (2.1.2)\n",
      "Requirement already satisfied: numpy in /opt/anaconda3/envs/tf_env/lib/python3.10/site-packages (from xgboost) (1.23.5)\n",
      "Requirement already satisfied: scipy in /opt/anaconda3/envs/tf_env/lib/python3.10/site-packages (from xgboost) (1.13.1)\n",
      "Note: you may need to restart the kernel to use updated packages.\n"
     ]
    }
   ],
   "source": [
    "pip install xgboost\n"
   ]
  },
  {
   "cell_type": "code",
   "execution_count": 27,
   "id": "81afc57a-321d-4875-842d-d1e28715b900",
   "metadata": {},
   "outputs": [],
   "source": [
    "# Define feature set and target variable\n",
    "X_supervised = data.drop(columns=['LUNG_CANCER'])  # Drop the target column to create X\n",
    "y = data['LUNG_CANCER']  # Define the target variable\n",
    "\n",
    "# Impute missing values with mean (for numerical) and mode (for categorical)\n",
    "X_imputed = X_supervised.apply(lambda col: col.fillna(col.mean()) if col.dtype != 'object' else col.fillna(col.mode()[0]))\n",
    "\n",
    "# Split data into training and testing sets\n",
    "X_train, X_test, y_train, y_test = train_test_split(X_imputed, y, test_size=0.3, random_state=0)\n"
   ]
  },
  {
   "cell_type": "markdown",
   "id": "0bb4b780-2abc-4116-9424-d366a1fb4bde",
   "metadata": {},
   "source": [
    "### Logistic regression "
   ]
  },
  {
   "cell_type": "code",
   "execution_count": 28,
   "id": "31e34e70-19c2-4e59-95e9-ee0705d9ddde",
   "metadata": {},
   "outputs": [
    {
     "name": "stdout",
     "output_type": "stream",
     "text": [
      "\n",
      "Logistic Regression\n",
      "Accuracy: 0.8924731182795699\n",
      "Precision: 0.8953488372093024\n",
      "Recall: 0.9871794871794872\n",
      "F1-Score: 0.9390243902439024\n",
      "Confusion Matrix:\n",
      " [[ 6  9]\n",
      " [ 1 77]]\n",
      "Classification Report:\n",
      "               precision    recall  f1-score   support\n",
      "\n",
      "           0       0.86      0.40      0.55        15\n",
      "           1       0.90      0.99      0.94        78\n",
      "\n",
      "    accuracy                           0.89        93\n",
      "   macro avg       0.88      0.69      0.74        93\n",
      "weighted avg       0.89      0.89      0.88        93\n",
      "\n"
     ]
    }
   ],
   "source": [
    "log_reg = LogisticRegression(max_iter=1000, random_state=0)\n",
    "log_reg.fit(X_train, y_train)\n",
    "y_pred_log_reg = log_reg.predict(X_test)\n",
    "print(\"\\nLogistic Regression\")\n",
    "print(\"Accuracy:\", accuracy_score(y_test, y_pred_log_reg))\n",
    "print(\"Precision:\", precision_score(y_test, y_pred_log_reg))\n",
    "print(\"Recall:\", recall_score(y_test, y_pred_log_reg))\n",
    "print(\"F1-Score:\", f1_score(y_test, y_pred_log_reg))\n",
    "print(\"Confusion Matrix:\\n\", confusion_matrix(y_test, y_pred_log_reg))\n",
    "print(\"Classification Report:\\n\", classification_report(y_test, y_pred_log_reg))"
   ]
  },
  {
   "cell_type": "markdown",
   "id": "54b18295-dadb-408b-b870-665d2ac151c4",
   "metadata": {},
   "source": [
    "### Random Forest "
   ]
  },
  {
   "cell_type": "code",
   "execution_count": 29,
   "id": "d62fce75-8b0c-49db-ac4a-ad21a10139f4",
   "metadata": {},
   "outputs": [
    {
     "name": "stdout",
     "output_type": "stream",
     "text": [
      "\n",
      "Random Forest\n",
      "Accuracy: 0.8494623655913979\n",
      "Precision: 0.8809523809523809\n",
      "Recall: 0.9487179487179487\n",
      "F1-Score: 0.9135802469135802\n",
      "Confusion Matrix:\n",
      " [[ 5 10]\n",
      " [ 4 74]]\n",
      "Classification Report:\n",
      "               precision    recall  f1-score   support\n",
      "\n",
      "           0       0.56      0.33      0.42        15\n",
      "           1       0.88      0.95      0.91        78\n",
      "\n",
      "    accuracy                           0.85        93\n",
      "   macro avg       0.72      0.64      0.67        93\n",
      "weighted avg       0.83      0.85      0.83        93\n",
      "\n"
     ]
    }
   ],
   "source": [
    "rf = RandomForestClassifier(random_state=0)\n",
    "rf.fit(X_train, y_train)\n",
    "y_pred_rf = rf.predict(X_test)\n",
    "print(\"\\nRandom Forest\")\n",
    "print(\"Accuracy:\", accuracy_score(y_test, y_pred_rf))\n",
    "print(\"Precision:\", precision_score(y_test, y_pred_rf))\n",
    "print(\"Recall:\", recall_score(y_test, y_pred_rf))\n",
    "print(\"F1-Score:\", f1_score(y_test, y_pred_rf))\n",
    "print(\"Confusion Matrix:\\n\", confusion_matrix(y_test, y_pred_rf))\n",
    "print(\"Classification Report:\\n\", classification_report(y_test, y_pred_rf))"
   ]
  },
  {
   "cell_type": "markdown",
   "id": "ffc2fe91-0900-422f-b18e-c4093e43e9d6",
   "metadata": {},
   "source": [
    "### Support Vector Machine"
   ]
  },
  {
   "cell_type": "code",
   "execution_count": 30,
   "id": "cf2d7f4c-2a48-4660-a76e-b42daddd6c8d",
   "metadata": {},
   "outputs": [
    {
     "name": "stdout",
     "output_type": "stream",
     "text": [
      "\n",
      "Support Vector Machine (SVM)\n",
      "Accuracy: 0.8494623655913979\n",
      "Precision: 0.8478260869565217\n",
      "Recall: 1.0\n",
      "F1-Score: 0.9176470588235294\n",
      "Confusion Matrix:\n",
      " [[ 1 14]\n",
      " [ 0 78]]\n",
      "Classification Report:\n",
      "               precision    recall  f1-score   support\n",
      "\n",
      "           0       1.00      0.07      0.12        15\n",
      "           1       0.85      1.00      0.92        78\n",
      "\n",
      "    accuracy                           0.85        93\n",
      "   macro avg       0.92      0.53      0.52        93\n",
      "weighted avg       0.87      0.85      0.79        93\n",
      "\n"
     ]
    }
   ],
   "source": [
    "svm = SVC(probability=True, random_state=0)\n",
    "svm.fit(X_train, y_train)\n",
    "y_pred_svm = svm.predict(X_test)\n",
    "print(\"\\nSupport Vector Machine (SVM)\")\n",
    "print(\"Accuracy:\", accuracy_score(y_test, y_pred_svm))\n",
    "print(\"Precision:\", precision_score(y_test, y_pred_svm))\n",
    "print(\"Recall:\", recall_score(y_test, y_pred_svm))\n",
    "print(\"F1-Score:\", f1_score(y_test, y_pred_svm))\n",
    "print(\"Confusion Matrix:\\n\", confusion_matrix(y_test, y_pred_svm))\n",
    "print(\"Classification Report:\\n\", classification_report(y_test, y_pred_svm))"
   ]
  },
  {
   "cell_type": "markdown",
   "id": "4966b6f8-b2e7-4d70-88e8-698c0a15dd14",
   "metadata": {},
   "source": [
    "### K-Nearest Neighbors"
   ]
  },
  {
   "cell_type": "code",
   "execution_count": 31,
   "id": "11d8ee83-3bce-4468-923a-40e30e9df152",
   "metadata": {},
   "outputs": [
    {
     "name": "stdout",
     "output_type": "stream",
     "text": [
      "\n",
      "K-Nearest Neighbors (KNN)\n",
      "Accuracy: 0.8279569892473119\n",
      "Precision: 0.8875\n",
      "Recall: 0.9102564102564102\n",
      "F1-Score: 0.8987341772151899\n",
      "Confusion Matrix:\n",
      " [[ 6  9]\n",
      " [ 7 71]]\n",
      "Classification Report:\n",
      "               precision    recall  f1-score   support\n",
      "\n",
      "           0       0.46      0.40      0.43        15\n",
      "           1       0.89      0.91      0.90        78\n",
      "\n",
      "    accuracy                           0.83        93\n",
      "   macro avg       0.67      0.66      0.66        93\n",
      "weighted avg       0.82      0.83      0.82        93\n",
      "\n"
     ]
    }
   ],
   "source": [
    "knn = KNeighborsClassifier()\n",
    "knn.fit(X_train, y_train)\n",
    "y_pred_knn = knn.predict(X_test)\n",
    "print(\"\\nK-Nearest Neighbors (KNN)\")\n",
    "print(\"Accuracy:\", accuracy_score(y_test, y_pred_knn))\n",
    "print(\"Precision:\", precision_score(y_test, y_pred_knn))\n",
    "print(\"Recall:\", recall_score(y_test, y_pred_knn))\n",
    "print(\"F1-Score:\", f1_score(y_test, y_pred_knn))\n",
    "print(\"Confusion Matrix:\\n\", confusion_matrix(y_test, y_pred_knn))\n",
    "print(\"Classification Report:\\n\", classification_report(y_test, y_pred_knn))"
   ]
  },
  {
   "cell_type": "markdown",
   "id": "b97db0c0-c623-4e7c-ad07-a39feb168f3e",
   "metadata": {},
   "source": [
    "### XGBoost"
   ]
  },
  {
   "cell_type": "code",
   "execution_count": 32,
   "id": "3c172faf-f6cd-42c3-ab5b-e795411cec0f",
   "metadata": {},
   "outputs": [
    {
     "name": "stdout",
     "output_type": "stream",
     "text": [
      "\n",
      "XGBoost\n",
      "Accuracy: 0.8709677419354839\n",
      "Precision: 0.9024390243902439\n",
      "Recall: 0.9487179487179487\n",
      "F1-Score: 0.925\n",
      "Confusion Matrix:\n",
      " [[ 7  8]\n",
      " [ 4 74]]\n",
      "Classification Report:\n",
      "               precision    recall  f1-score   support\n",
      "\n",
      "           0       0.64      0.47      0.54        15\n",
      "           1       0.90      0.95      0.93        78\n",
      "\n",
      "    accuracy                           0.87        93\n",
      "   macro avg       0.77      0.71      0.73        93\n",
      "weighted avg       0.86      0.87      0.86        93\n",
      "\n"
     ]
    },
    {
     "name": "stderr",
     "output_type": "stream",
     "text": [
      "/opt/anaconda3/envs/tf_env/lib/python3.10/site-packages/xgboost/core.py:158: UserWarning: [21:02:45] WARNING: /Users/runner/work/xgboost/xgboost/src/learner.cc:740: \n",
      "Parameters: { \"use_label_encoder\" } are not used.\n",
      "\n",
      "  warnings.warn(smsg, UserWarning)\n"
     ]
    }
   ],
   "source": [
    "xgb = XGBClassifier(use_label_encoder=False, eval_metric='logloss', random_state=0)\n",
    "xgb.fit(X_train, y_train)\n",
    "y_pred_xgb = xgb.predict(X_test)\n",
    "print(\"\\nXGBoost\")\n",
    "print(\"Accuracy:\", accuracy_score(y_test, y_pred_xgb))\n",
    "print(\"Precision:\", precision_score(y_test, y_pred_xgb))\n",
    "print(\"Recall:\", recall_score(y_test, y_pred_xgb))\n",
    "print(\"F1-Score:\", f1_score(y_test, y_pred_xgb))\n",
    "print(\"Confusion Matrix:\\n\", confusion_matrix(y_test, y_pred_xgb))\n",
    "print(\"Classification Report:\\n\", classification_report(y_test, y_pred_xgb))"
   ]
  },
  {
   "cell_type": "code",
   "execution_count": null,
   "id": "f3663cbc-416a-4c70-ac37-79d39115aa16",
   "metadata": {},
   "outputs": [],
   "source": []
  }
 ],
 "metadata": {
  "kernelspec": {
   "display_name": "Python 3 (ipykernel)",
   "language": "python",
   "name": "python3"
  },
  "language_info": {
   "codemirror_mode": {
    "name": "ipython",
    "version": 3
   },
   "file_extension": ".py",
   "mimetype": "text/x-python",
   "name": "python",
   "nbconvert_exporter": "python",
   "pygments_lexer": "ipython3",
   "version": "3.10.14"
  }
 },
 "nbformat": 4,
 "nbformat_minor": 5
}
